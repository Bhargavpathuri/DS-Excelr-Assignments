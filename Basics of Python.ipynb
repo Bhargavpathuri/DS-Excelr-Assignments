{
 "cells": [
  {
   "cell_type": "markdown",
   "id": "8e9f3d2e",
   "metadata": {},
   "source": [
    "# Python Programming Assignment"
   ]
  },
  {
   "cell_type": "markdown",
   "id": "9a30eca2",
   "metadata": {},
   "source": [
    "### Coding Exercises"
   ]
  },
  {
   "cell_type": "markdown",
   "id": "4c8ceacf",
   "metadata": {},
   "source": [
    "#### Excercise 1: Prime Numbers\n",
    "\n",
    "Write a Python program that checks whether a given number is prime or not. A prime number is a natural number greater than 1 that has no positive divisors other than 1 and itself."
   ]
  },
  {
   "cell_type": "code",
   "execution_count": 50,
   "id": "3600f6ca",
   "metadata": {},
   "outputs": [
    {
     "name": "stdout",
     "output_type": "stream",
     "text": [
      "Enter a number: 2\n",
      "2 is a Prime number\n"
     ]
    }
   ],
   "source": [
    "# takeing input from the user\n",
    "num = int(input(\"Enter a number: \"))\n",
    "# initialize flag as 0\n",
    "flag = 0\n",
    "if num == 1:\n",
    "    print(num,\"is not a prime number\")\n",
    "elif num > 1:\n",
    "    for i in range(2,num):\n",
    "        if num%i==0:\n",
    "            # condition passes flag changes to 1\n",
    "            flag = 1\n",
    "            # when flag changes to 1 then break the loop\n",
    "            break\n",
    "    if flag == 1:\n",
    "        print(num,'is not a Prime number')\n",
    "    else:\n",
    "        print(num,\"is a Prime number\")\n",
    "else:\n",
    "    print(num,\"is not a prime number\")"
   ]
  },
  {
   "cell_type": "markdown",
   "id": "45bd1638",
   "metadata": {},
   "source": [
    "#### Exercise 2 : Product of Random Numbers\n",
    "Develop a Python program that generates two random numbers and asks the user to enter the product of these numbers. The program should then check if the user's answer is correct and display an appropriate message."
   ]
  },
  {
   "cell_type": "code",
   "execution_count": 55,
   "id": "3eda5431",
   "metadata": {},
   "outputs": [
    {
     "name": "stdout",
     "output_type": "stream",
     "text": [
      "What is the product of 47 and 68? 3196\n",
      "Congratulations! Your answer is right.\n"
     ]
    }
   ],
   "source": [
    "import random\n",
    "\n",
    "# Generate two random numbers\n",
    "num1 = random.randint(1, 100)  # Change range as needed\n",
    "num2 = random.randint(1, 100)  # Change range as needed\n",
    "\n",
    "# Ask the user for the product\n",
    "user_answer = int(input(f\"What is the product of {num1} and {num2}? \"))\n",
    "\n",
    "# Calculate the product\n",
    "product = num1 * num2\n",
    "\n",
    "# Check if the answer is correct\n",
    "if user_answer == product:\n",
    "    print(\"Congratulations! Your answer is right.\")\n",
    "else:\n",
    "    print(f\"Sorry, the correct answer is {product}.\")"
   ]
  },
  {
   "cell_type": "markdown",
   "id": "4dd5aaa2",
   "metadata": {},
   "source": [
    "#### Exercise 3: Squares of Even/Odd Numbers\n",
    "Create a Python script that prints the squares of all even or odd numbers within the range of 100 to 200. Choose either even or odd numbers and document your choice in the code."
   ]
  },
  {
   "cell_type": "code",
   "execution_count": 57,
   "id": "338e4dce",
   "metadata": {
    "collapsed": true
   },
   "outputs": [
    {
     "name": "stdout",
     "output_type": "stream",
     "text": [
      "Square of 101 (odd): 10201\n",
      "Square of 103 (odd): 10609\n",
      "Square of 105 (odd): 11025\n",
      "Square of 107 (odd): 11449\n",
      "Square of 109 (odd): 11881\n",
      "Square of 111 (odd): 12321\n",
      "Square of 113 (odd): 12769\n",
      "Square of 115 (odd): 13225\n",
      "Square of 117 (odd): 13689\n",
      "Square of 119 (odd): 14161\n",
      "Square of 121 (odd): 14641\n",
      "Square of 123 (odd): 15129\n",
      "Square of 125 (odd): 15625\n",
      "Square of 127 (odd): 16129\n",
      "Square of 129 (odd): 16641\n",
      "Square of 131 (odd): 17161\n",
      "Square of 133 (odd): 17689\n",
      "Square of 135 (odd): 18225\n",
      "Square of 137 (odd): 18769\n",
      "Square of 139 (odd): 19321\n",
      "Square of 141 (odd): 19881\n",
      "Square of 143 (odd): 20449\n",
      "Square of 145 (odd): 21025\n",
      "Square of 147 (odd): 21609\n",
      "Square of 149 (odd): 22201\n",
      "Square of 151 (odd): 22801\n",
      "Square of 153 (odd): 23409\n",
      "Square of 155 (odd): 24025\n",
      "Square of 157 (odd): 24649\n",
      "Square of 159 (odd): 25281\n",
      "Square of 161 (odd): 25921\n",
      "Square of 163 (odd): 26569\n",
      "Square of 165 (odd): 27225\n",
      "Square of 167 (odd): 27889\n",
      "Square of 169 (odd): 28561\n",
      "Square of 171 (odd): 29241\n",
      "Square of 173 (odd): 29929\n",
      "Square of 175 (odd): 30625\n",
      "Square of 177 (odd): 31329\n",
      "Square of 179 (odd): 32041\n",
      "Square of 181 (odd): 32761\n",
      "Square of 183 (odd): 33489\n",
      "Square of 185 (odd): 34225\n",
      "Square of 187 (odd): 34969\n",
      "Square of 189 (odd): 35721\n",
      "Square of 191 (odd): 36481\n",
      "Square of 193 (odd): 37249\n",
      "Square of 195 (odd): 38025\n",
      "Square of 197 (odd): 38809\n",
      "Square of 199 (odd): 39601\n"
     ]
    }
   ],
   "source": [
    "# Loop through the range\n",
    "for num in range(100, 201):\n",
    "  # Check if odd using modulo operator\n",
    "  if num % 2 != 0:\n",
    "    # Calculate and print the square\n",
    "    square = num * num\n",
    "    print(f\"Square of {num} (odd): {square}\")"
   ]
  },
  {
   "cell_type": "markdown",
   "id": "a143e5e7",
   "metadata": {},
   "source": [
    "#### Exercise 4: word counter\n",
    "write a program to count the number of words in a given text.\n",
    "\n",
    "example:\n",
    "input_text = \"This is a sample text. This text will be used to demonstrate the word counter.\"\n",
    "\n",
    "Expected output:\n",
    "\n",
    "'This': 2\n",
    "\n",
    "'is': 1\n",
    "\n",
    "'a': 1\n",
    "\n",
    "'sample': 1\n",
    "\n",
    "'text.': 1"
   ]
  },
  {
   "cell_type": "code",
   "execution_count": 74,
   "id": "0bfa7808",
   "metadata": {},
   "outputs": [
    {
     "name": "stdout",
     "output_type": "stream",
     "text": [
      "{'This': 2, 'is': 1, 'a': 1, 'sample': 1, 'text.': 1, 'text': 1, 'will': 1, 'be': 1, 'used': 1, 'to': 1, 'demonstrate': 1, 'the': 1, 'word': 1, 'counter.': 1}\n"
     ]
    }
   ],
   "source": [
    "def count_words(text):\n",
    "    \"\"\"Counts the occurrences of each word in a given text.\n",
    "\n",
    "  Args:\n",
    "      text: The text string to analyze.\n",
    "\n",
    "  Returns:\n",
    "      A dictionary where keys are unique words and values are their counts.\n",
    "  \"\"\"\n",
    "\n",
    "  # Convert text to split into words\n",
    "    words = text.split()\n",
    "\n",
    "  # Initialize an empty dictionary to store word counts\n",
    "    word_counts = {}\n",
    "\n",
    "  # Count occurrences of each word\n",
    "    for word in words:\n",
    "        if word in word_counts:\n",
    "            word_counts[word] += 1  # Increment count if word already exists\n",
    "        else:\n",
    "            word_counts[word] = 1  # Add word and set count to 1\n",
    "\n",
    "    return word_counts\n",
    "\n",
    "# Example usage\n",
    "input_text = \"This is a sample text. This text will be used to demonstrate the word counter.\"\n",
    "word_counts = count_words(input_text)\n",
    "\n",
    "# Print the word counts dictionary\n",
    "print(word_counts)"
   ]
  },
  {
   "cell_type": "markdown",
   "id": "40d7f291",
   "metadata": {},
   "source": [
    "#### Exercise 5:Check for Palindrome\n",
    "Write a Python function called is_palindrome that takes a string as input and returns True if the string is a palindrome, and False otherwise. A palindrome is a word, phrase, number, or other sequence of characters that reads the same forward and backward, ignoring spaces, punctuation, and capitalization.\n",
    "\n",
    "Example:\n",
    "\n",
    "Input: \"racecar\"\n",
    "\n",
    "Expected Output: True\n"
   ]
  },
  {
   "cell_type": "code",
   "execution_count": 133,
   "id": "0a07c340",
   "metadata": {},
   "outputs": [
    {
     "name": "stdout",
     "output_type": "stream",
     "text": [
      "True\n"
     ]
    }
   ],
   "source": [
    "def is_palindrome(text):\n",
    "    \"\"\"Checks if a given string is a palindrome.\n",
    "\n",
    "  Args:\n",
    "      text: The string to be evaluated.\n",
    "\n",
    "  Returns:\n",
    "      True if the string is a palindrome, False otherwise.\n",
    "  \"\"\"\n",
    "\n",
    "  # Convert the text to lowercase and remove non-alphanumeric characters\n",
    "    conv_text = ''.join(char.lower() for char in text if char.isalnum())\n",
    "    if conv_text == conv_text[::-1]:\n",
    "  # Check if the reversed string is equal to the original\n",
    "        return True\n",
    "    else:\n",
    "        return False\n",
    "\n",
    "# Example usage\n",
    "text = \"racecar\"\n",
    "print(is_palindrome(text))"
   ]
  },
  {
   "cell_type": "code",
   "execution_count": null,
   "id": "8c8210c0",
   "metadata": {},
   "outputs": [],
   "source": []
  }
 ],
 "metadata": {
  "kernelspec": {
   "display_name": "Python 3 (ipykernel)",
   "language": "python",
   "name": "python3"
  },
  "language_info": {
   "codemirror_mode": {
    "name": "ipython",
    "version": 3
   },
   "file_extension": ".py",
   "mimetype": "text/x-python",
   "name": "python",
   "nbconvert_exporter": "python",
   "pygments_lexer": "ipython3",
   "version": "3.11.7"
  }
 },
 "nbformat": 4,
 "nbformat_minor": 5
}
